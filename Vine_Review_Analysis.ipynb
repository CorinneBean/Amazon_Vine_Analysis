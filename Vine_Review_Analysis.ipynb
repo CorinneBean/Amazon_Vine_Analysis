{
  "nbformat": 4,
  "nbformat_minor": 0,
  "metadata": {
    "colab": {
      "provenance": [],
      "authorship_tag": "ABX9TyOVjVVZXoxmD0VAluYnONma",
      "include_colab_link": true
    },
    "kernelspec": {
      "name": "python3",
      "display_name": "Python 3"
    },
    "language_info": {
      "name": "python"
    }
  },
  "cells": [
    {
      "cell_type": "markdown",
      "metadata": {
        "id": "view-in-github",
        "colab_type": "text"
      },
      "source": [
        "<a href=\"https://colab.research.google.com/github/CorinneBean/Amazon_Vine_Analysis/blob/main/Vine_Review_Analysis.ipynb\" target=\"_parent\"><img src=\"https://colab.research.google.com/assets/colab-badge.svg\" alt=\"Open In Colab\"/></a>"
      ]
    },
    {
      "cell_type": "code",
      "execution_count": null,
      "metadata": {
        "colab": {
          "base_uri": "https://localhost:8080/"
        },
        "id": "M8EFsCUUyVam",
        "outputId": "22276db6-dd7d-4601-abed-8ecf68661d8b"
      },
      "outputs": [
        {
          "output_type": "stream",
          "name": "stdout",
          "text": [
            "\r0% [Working]\r            \rGet:1 https://cloud.r-project.org/bin/linux/ubuntu bionic-cran40/ InRelease [3,626 B]\n",
            "\r0% [Waiting for headers] [Connecting to security.ubuntu.com] [1 InRelease 0 B/3\r0% [Waiting for headers] [Connecting to security.ubuntu.com] [Waiting for heade\r0% [1 InRelease gpgv 3,626 B] [Waiting for headers] [Connecting to security.ubu\r                                                                               \rIgn:2 https://developer.download.nvidia.com/compute/machine-learning/repos/ubuntu1804/x86_64  InRelease\n",
            "\r0% [1 InRelease gpgv 3,626 B] [Waiting for headers] [Connecting to security.ubu\r                                                                               \rHit:3 http://archive.ubuntu.com/ubuntu bionic InRelease\n",
            "\r                                                                               \rHit:4 https://developer.download.nvidia.com/compute/cuda/repos/ubuntu1804/x86_64  InRelease\n",
            "\r0% [1 InRelease gpgv 3,626 B] [Connecting to security.ubuntu.com] [Connecting t\r                                                                               \rHit:5 https://developer.download.nvidia.com/compute/machine-learning/repos/ubuntu1804/x86_64  Release\n",
            "Get:6 http://archive.ubuntu.com/ubuntu bionic-updates InRelease [88.7 kB]\n",
            "Get:7 http://ppa.launchpad.net/c2d4u.team/c2d4u4.0+/ubuntu bionic InRelease [15.9 kB]\n",
            "Get:8 http://security.ubuntu.com/ubuntu bionic-security InRelease [88.7 kB]\n",
            "Get:9 http://archive.ubuntu.com/ubuntu bionic-backports InRelease [74.6 kB]\n",
            "Get:10 https://cloud.r-project.org/bin/linux/ubuntu bionic-cran40/ Packages [91.7 kB]\n",
            "Hit:11 http://ppa.launchpad.net/cran/libgit2/ubuntu bionic InRelease\n",
            "Get:12 http://ppa.launchpad.net/deadsnakes/ppa/ubuntu bionic InRelease [15.9 kB]\n",
            "Hit:14 http://ppa.launchpad.net/graphics-drivers/ppa/ubuntu bionic InRelease\n",
            "Get:15 http://archive.ubuntu.com/ubuntu bionic-updates/main amd64 Packages [3,397 kB]\n",
            "Get:16 http://archive.ubuntu.com/ubuntu bionic-updates/restricted amd64 Packages [1,172 kB]\n",
            "Get:17 http://ppa.launchpad.net/c2d4u.team/c2d4u4.0+/ubuntu bionic/main Sources [2,099 kB]\n",
            "Get:18 http://security.ubuntu.com/ubuntu bionic-security/main amd64 Packages [2,965 kB]\n",
            "Get:19 http://security.ubuntu.com/ubuntu bionic-security/universe amd64 Packages [1,540 kB]\n",
            "Get:20 http://ppa.launchpad.net/c2d4u.team/c2d4u4.0+/ubuntu bionic/main amd64 Packages [1,076 kB]\n",
            "Get:21 http://security.ubuntu.com/ubuntu bionic-security/restricted amd64 Packages [1,131 kB]\n",
            "Fetched 13.8 MB in 6s (2,460 kB/s)\n",
            "Reading package lists... Done\n"
          ]
        }
      ],
      "source": [
        "import os\n",
        "# Find the latest version of spark 3.0  from http://www.apache.org/dist/spark/ and enter as the spark version\n",
        "# For example:\n",
        "# spark_version = 'spark-3.0.3'\n",
        "spark_version = 'spark-3.2.2'\n",
        "os.environ['SPARK_VERSION']=spark_version\n",
        "\n",
        "# Install Spark and Java\n",
        "!apt-get update\n",
        "!apt-get install openjdk-11-jdk-headless -qq > /dev/null\n",
        "!wget -q http://www.apache.org/dist/spark/$SPARK_VERSION/$SPARK_VERSION-bin-hadoop2.7.tgz\n",
        "!tar xf $SPARK_VERSION-bin-hadoop2.7.tgz\n",
        "!pip install -q findspark\n",
        "\n",
        "# Set Environment Variables\n",
        "import os\n",
        "os.environ[\"JAVA_HOME\"] = \"/usr/lib/jvm/java-11-openjdk-amd64\"\n",
        "os.environ[\"SPARK_HOME\"] = f\"/content/{spark_version}-bin-hadoop2.7\"\n",
        "\n",
        "# Start a SparkSession\n",
        "import findspark\n",
        "findspark.init()"
      ]
    },
    {
      "cell_type": "code",
      "source": [
        "# Download the Postgres driver that will allow Spark to interact with Postgres.\n",
        "!wget https://jdbc.postgresql.org/download/postgresql-42.2.16.jar"
      ],
      "metadata": {
        "colab": {
          "base_uri": "https://localhost:8080/"
        },
        "id": "t-cGCepyyj2R",
        "outputId": "c42347e1-6fbf-4947-f670-e746998affad"
      },
      "execution_count": null,
      "outputs": [
        {
          "output_type": "stream",
          "name": "stdout",
          "text": [
            "--2022-09-07 16:32:58--  https://jdbc.postgresql.org/download/postgresql-42.2.16.jar\n",
            "Resolving jdbc.postgresql.org (jdbc.postgresql.org)... 72.32.157.228, 2001:4800:3e1:1::228\n",
            "Connecting to jdbc.postgresql.org (jdbc.postgresql.org)|72.32.157.228|:443... connected.\n",
            "HTTP request sent, awaiting response... 200 OK\n",
            "Length: 1002883 (979K) [application/java-archive]\n",
            "Saving to: ‘postgresql-42.2.16.jar’\n",
            "\n",
            "postgresql-42.2.16. 100%[===================>] 979.38K  4.88MB/s    in 0.2s    \n",
            "\n",
            "2022-09-07 16:32:58 (4.88 MB/s) - ‘postgresql-42.2.16.jar’ saved [1002883/1002883]\n",
            "\n"
          ]
        }
      ]
    },
    {
      "cell_type": "code",
      "source": [
        "from pyspark.sql import SparkSession\n",
        "spark = SparkSession.builder.appName(\"M16-Amazon-Challenge\").config(\"spark.driver.extraClassPath\",\"/content/postgresql-42.2.16.jar\").getOrCreate()"
      ],
      "metadata": {
        "id": "De3zksJAzECx"
      },
      "execution_count": null,
      "outputs": []
    },
    {
      "cell_type": "markdown",
      "source": [
        "Load Amazon Data into Spark DataFrame"
      ],
      "metadata": {
        "id": "9I7rHS5QzmdJ"
      }
    },
    {
      "cell_type": "code",
      "source": [
        "from pyspark import SparkFiles\n",
        "url = \"https://s3.amazonaws.com/amazon-reviews-pds/tsv/amazon_reviews_us_Pet_Products_v1_00.tsv.gz\"\n",
        "spark.sparkContext.addFile(url)\n",
        "df = spark.read.option(\"encoding\", \"UTF-8\").csv(SparkFiles.get(\"amazon_reviews_us_Pet_Products_v1_00.tsv.gz\"), sep=\"\\t\", header=True, inferSchema=True)\n",
        "df.show()\n",
        "df.count()"
      ],
      "metadata": {
        "colab": {
          "base_uri": "https://localhost:8080/"
        },
        "id": "FUJVh1owzpiy",
        "outputId": "fc81d1b4-2e27-4aa6-9b0b-2329a984e13d"
      },
      "execution_count": null,
      "outputs": [
        {
          "output_type": "stream",
          "name": "stdout",
          "text": [
            "+-----------+-----------+--------------+----------+--------------+--------------------+----------------+-----------+-------------+-----------+----+-----------------+--------------------+--------------------+-----------+\n",
            "|marketplace|customer_id|     review_id|product_id|product_parent|       product_title|product_category|star_rating|helpful_votes|total_votes|vine|verified_purchase|     review_headline|         review_body|review_date|\n",
            "+-----------+-----------+--------------+----------+--------------+--------------------+----------------+-----------+-------------+-----------+----+-----------------+--------------------+--------------------+-----------+\n",
            "|         US|   28794885| REAKC26P07MDN|B00Q0K9604|     510387886|(8-Pack) EZwhelp ...|    Pet Products|          5|            0|          0|   N|                Y|A great purchase ...|Best belly bands ...| 2015-08-31|\n",
            "|         US|   11488901|R3NU7OMZ4HQIEG|B00MBW5O9W|     912374672|Warren Eckstein's...|    Pet Products|          2|            0|          1|   N|                Y|My dogs love Hugs...|My dogs love Hugs...| 2015-08-31|\n",
            "|         US|   43214993|R14QJW3XF8QO1P|B0084OHUIO|     902215727|Tyson's True Chew...|    Pet Products|          5|            0|          0|   N|                Y|I have been purch...|I have been purch...| 2015-08-31|\n",
            "|         US|   12835065|R2HB7AX0394ZGY|B001GS71K2|     568880110|Soft Side Pet Cra...|    Pet Products|          5|            0|          0|   N|                Y|it is easy to ope...|It is extremely w...| 2015-08-31|\n",
            "|         US|   26334022| RGKMPDQGSAHR3|B004ABH1LG|     692846826|EliteField 3-Door...|    Pet Products|          5|            0|          0|   N|                Y|           Dog crate|Worked really wel...| 2015-08-31|\n",
            "|         US|   22283621|R1DJCVPQGCV66E|B00AX0LFM4|     590674141|Carlson 68-Inch W...|    Pet Products|          5|            0|          0|   N|                Y|          Five Stars|I love my gates! ...| 2015-08-31|\n",
            "|         US|   14469895|R3V52EAWLPBFQG|B00DQFZGZ0|     688538603|Dog Seat Cover Wi...|    Pet Products|          3|            0|          0|   N|                Y|Seat belt tugs on...|Didn't quite work...| 2015-08-31|\n",
            "|         US|   50896354|R3DKO8J1J28QBI|B00DIRF9US|     742358789|The Bird Catcher ...|    Pet Products|          2|            0|          0|   N|                Y|Great Pole, but S...|I had the origina...| 2015-08-31|\n",
            "|         US|   18440567| R764DBXGRNECG|B00JRCBFUG|     869798483|Cat Bed - Purrfec...|    Pet Products|          5|            1|          1|   N|                N|     My cat loves it|The pad is very s...| 2015-08-31|\n",
            "|         US|   50502362| RW1853GAT0Z9F|B000L3XYZ4|     501118658|PetSafe Drinkwell...|    Pet Products|          5|            0|          0|   N|                Y|          Five Stars|My cat drinks mor...| 2015-08-31|\n",
            "|         US|   33930128|R33GITXNUF1AD4|B00BOEXWFG|     454737777|Contech ZenDog Ca...|    Pet Products|          2|            0|          0|   N|                Y|Also had to pull ...|Much smaller than...| 2015-08-31|\n",
            "|         US|   43534290|R1H7AVM81TAYRV|B001HBBQKY|     420905252|Wellness Crunchy ...|    Pet Products|          1|            2|          2|   N|                Y|DO NOT PURCHASE -...|I used to love th...| 2015-08-31|\n",
            "|         US|   45555864|R2ZOYAQZNNZZWV|B007O1FHB0|     302588963|Rx Vitamins Essen...|    Pet Products|          5|            0|          0|   N|                Y|          Five Stars|Recommended by my...| 2015-08-31|\n",
            "|         US|   11147406|R2FN1H3CGW6J8H|B001P3NU30|     525778264|Virbac C.E.T. Enz...|    Pet Products|          1|            0|          0|   N|                Y|Received wrong pr...|Yes I  ordered fo...| 2015-08-31|\n",
            "|         US|    6495678| RJB41Q575XNG4|B00ZP6HS6S|     414117299|Kitty Shack - 2 i...|    Pet Products|          5|            0|          3|   N|                Y|          Five Stars|      It falls apart| 2015-08-31|\n",
            "|         US|    2019416|R28W8BM1587CPF|B00IP05CUA|     833937853|Wellness Kittles ...|    Pet Products|          5|            0|          0|   N|                Y|kitty is ravenous...|My cat really lov...| 2015-08-31|\n",
            "|         US|   40459386|R1II0M01NIG293|B001U8Y598|      85343577|OmniPet Anti-Ant ...|    Pet Products|          2|            0|          0|   N|                N|Maybe other speci...|This bowl is not ...| 2015-08-31|\n",
            "|         US|   23126800| RMB8N0DBRH34O|B011AY4JWO|     499241195|K9KONNECTION [New...|    Pet Products|          5|            1|          1|   N|                Y|This works, dog n...|I have a small do...| 2015-08-31|\n",
            "|         US|   30238476|R24WB6A6WVIPU6|B00DDSHE5A|     409532388|SUNSEED COMPANY 3...|    Pet Products|          5|            0|          0|   N|                Y|    Yummy for Bunny!|Bunny loves it! E...| 2015-08-31|\n",
            "|         US|   35113999| ROCJSH0P9YSRW|B00PJW5OR8|     259271919|CXB1983(TM)Cute P...|    Pet Products|          5|            0|          0|   N|                Y|excellent price, ...|Petfect,,quality ...| 2015-08-31|\n",
            "+-----------+-----------+--------------+----------+--------------+--------------------+----------------+-----------+-------------+-----------+----+-----------------+--------------------+--------------------+-----------+\n",
            "only showing top 20 rows\n",
            "\n"
          ]
        },
        {
          "output_type": "execute_result",
          "data": {
            "text/plain": [
              "2643619"
            ]
          },
          "metadata": {},
          "execution_count": 5
        }
      ]
    },
    {
      "cell_type": "markdown",
      "source": [
        "Perform analysis on the vine reviews"
      ],
      "metadata": {
        "id": "ajZH5n_Tz4bg"
      }
    },
    {
      "cell_type": "code",
      "source": [
        "from pyspark.sql.functions import to_date\n",
        "# Read in the Review dataset as a DataFrame\n",
        "\n",
        "df.printSchema()"
      ],
      "metadata": {
        "colab": {
          "base_uri": "https://localhost:8080/"
        },
        "id": "SWncPDfZz6Ar",
        "outputId": "7728607e-5cbc-4605-bbcc-95dac095dd11"
      },
      "execution_count": null,
      "outputs": [
        {
          "output_type": "stream",
          "name": "stdout",
          "text": [
            "root\n",
            " |-- marketplace: string (nullable = true)\n",
            " |-- customer_id: integer (nullable = true)\n",
            " |-- review_id: string (nullable = true)\n",
            " |-- product_id: string (nullable = true)\n",
            " |-- product_parent: integer (nullable = true)\n",
            " |-- product_title: string (nullable = true)\n",
            " |-- product_category: string (nullable = true)\n",
            " |-- star_rating: integer (nullable = true)\n",
            " |-- helpful_votes: integer (nullable = true)\n",
            " |-- total_votes: integer (nullable = true)\n",
            " |-- vine: string (nullable = true)\n",
            " |-- verified_purchase: string (nullable = true)\n",
            " |-- review_headline: string (nullable = true)\n",
            " |-- review_body: string (nullable = true)\n",
            " |-- review_date: string (nullable = true)\n",
            "\n"
          ]
        }
      ]
    },
    {
      "cell_type": "code",
      "source": [
        "# Create the vine_table. DataFrame\n",
        "vine_table = df.select([\"review_id\", \"star_rating\", \"helpful_votes\", \"total_votes\", \"vine\", \"verified_purchase\"])\n",
        "vine_table.show(10)"
      ],
      "metadata": {
        "colab": {
          "base_uri": "https://localhost:8080/"
        },
        "id": "oWzPM1QA0L9I",
        "outputId": "3360813a-c2cd-455c-fb33-890a600da9e9"
      },
      "execution_count": null,
      "outputs": [
        {
          "output_type": "stream",
          "name": "stdout",
          "text": [
            "+--------------+-----------+-------------+-----------+----+-----------------+\n",
            "|     review_id|star_rating|helpful_votes|total_votes|vine|verified_purchase|\n",
            "+--------------+-----------+-------------+-----------+----+-----------------+\n",
            "| REAKC26P07MDN|          5|            0|          0|   N|                Y|\n",
            "|R3NU7OMZ4HQIEG|          2|            0|          1|   N|                Y|\n",
            "|R14QJW3XF8QO1P|          5|            0|          0|   N|                Y|\n",
            "|R2HB7AX0394ZGY|          5|            0|          0|   N|                Y|\n",
            "| RGKMPDQGSAHR3|          5|            0|          0|   N|                Y|\n",
            "|R1DJCVPQGCV66E|          5|            0|          0|   N|                Y|\n",
            "|R3V52EAWLPBFQG|          3|            0|          0|   N|                Y|\n",
            "|R3DKO8J1J28QBI|          2|            0|          0|   N|                Y|\n",
            "| R764DBXGRNECG|          5|            1|          1|   N|                N|\n",
            "| RW1853GAT0Z9F|          5|            0|          0|   N|                Y|\n",
            "+--------------+-----------+-------------+-----------+----+-----------------+\n",
            "only showing top 10 rows\n",
            "\n"
          ]
        }
      ]
    },
    {
      "cell_type": "code",
      "source": [
        "vine_table = vine_table.dropna()\n",
        "vine_table.show(10)"
      ],
      "metadata": {
        "colab": {
          "base_uri": "https://localhost:8080/"
        },
        "id": "CmbzJUO70Nfs",
        "outputId": "a5de5a48-2465-4145-b9f4-7d4948122b99"
      },
      "execution_count": null,
      "outputs": [
        {
          "output_type": "stream",
          "name": "stdout",
          "text": [
            "+--------------+-----------+-------------+-----------+----+-----------------+\n",
            "|     review_id|star_rating|helpful_votes|total_votes|vine|verified_purchase|\n",
            "+--------------+-----------+-------------+-----------+----+-----------------+\n",
            "| REAKC26P07MDN|          5|            0|          0|   N|                Y|\n",
            "|R3NU7OMZ4HQIEG|          2|            0|          1|   N|                Y|\n",
            "|R14QJW3XF8QO1P|          5|            0|          0|   N|                Y|\n",
            "|R2HB7AX0394ZGY|          5|            0|          0|   N|                Y|\n",
            "| RGKMPDQGSAHR3|          5|            0|          0|   N|                Y|\n",
            "|R1DJCVPQGCV66E|          5|            0|          0|   N|                Y|\n",
            "|R3V52EAWLPBFQG|          3|            0|          0|   N|                Y|\n",
            "|R3DKO8J1J28QBI|          2|            0|          0|   N|                Y|\n",
            "| R764DBXGRNECG|          5|            1|          1|   N|                N|\n",
            "| RW1853GAT0Z9F|          5|            0|          0|   N|                Y|\n",
            "+--------------+-----------+-------------+-----------+----+-----------------+\n",
            "only showing top 10 rows\n",
            "\n"
          ]
        }
      ]
    },
    {
      "cell_type": "code",
      "source": [
        "rows = vine_table.count()\n",
        "print({rows})"
      ],
      "metadata": {
        "colab": {
          "base_uri": "https://localhost:8080/"
        },
        "id": "lbdduANe0Qu-",
        "outputId": "59aa7d35-4c95-40da-a71b-f306716dc79c"
      },
      "execution_count": null,
      "outputs": [
        {
          "output_type": "stream",
          "name": "stdout",
          "text": [
            "{2643614}\n"
          ]
        }
      ]
    },
    {
      "cell_type": "code",
      "source": [
        "#Filter data to create dataframe where there \n",
        "#are 20 or more total votes\n",
        "total_votes_df=vine_table.filter(\"total_votes>=20\")\n",
        "total_votes_df.show(10)"
      ],
      "metadata": {
        "colab": {
          "base_uri": "https://localhost:8080/"
        },
        "id": "nhiQtmJq0bXR",
        "outputId": "dd0685ae-eca0-47cb-d052-03844aca7ad3"
      },
      "execution_count": null,
      "outputs": [
        {
          "output_type": "stream",
          "name": "stdout",
          "text": [
            "+--------------+-----------+-------------+-----------+----+-----------------+\n",
            "|     review_id|star_rating|helpful_votes|total_votes|vine|verified_purchase|\n",
            "+--------------+-----------+-------------+-----------+----+-----------------+\n",
            "|R21KC552Y6HL8X|          1|           27|         31|   N|                Y|\n",
            "| RX9WC9FTIR1XR|          5|           25|         25|   N|                Y|\n",
            "| RGDCOU1KBHMNG|          3|           29|         31|   N|                Y|\n",
            "| RVTYWID2TPMMY|          2|           35|         42|   N|                Y|\n",
            "|R2CMPZ5VESGRLY|          4|           27|         28|   N|                Y|\n",
            "|R3VQPJZ54B55BA|          5|           62|         64|   N|                N|\n",
            "|R24QM6D7FEDZ5M|          2|           36|         43|   N|                Y|\n",
            "|R3A1VQ3SQDXEJ3|          5|           20|         20|   N|                Y|\n",
            "|  R39GSNW76GYF|          1|           20|         23|   N|                Y|\n",
            "| RPJLR6MFDPXXE|          5|           35|         36|   N|                Y|\n",
            "+--------------+-----------+-------------+-----------+----+-----------------+\n",
            "only showing top 10 rows\n",
            "\n"
          ]
        }
      ]
    },
    {
      "cell_type": "code",
      "source": [
        "rows = total_votes_df.count()\n",
        "print({rows})"
      ],
      "metadata": {
        "colab": {
          "base_uri": "https://localhost:8080/"
        },
        "id": "Y5MuPojB0egG",
        "outputId": "27378c92-b94b-4ca6-af24-d7fa6daf5c2d"
      },
      "execution_count": null,
      "outputs": [
        {
          "output_type": "stream",
          "name": "stdout",
          "text": [
            "{39376}\n"
          ]
        }
      ]
    },
    {
      "cell_type": "code",
      "source": [
        "#Filter data to create a dataframe where % of \n",
        "#helpful votes is equal => 50%\n",
        "percent_votes_df =total_votes_df.filter(\"helpful_votes/total_votes>=0.50\")\n",
        "percent_votes_df.show(20)"
      ],
      "metadata": {
        "colab": {
          "base_uri": "https://localhost:8080/"
        },
        "id": "8R1gBPjG0nlB",
        "outputId": "57bd0324-0f4a-4d79-c2a4-735da87d8efe"
      },
      "execution_count": null,
      "outputs": [
        {
          "output_type": "stream",
          "name": "stdout",
          "text": [
            "+--------------+-----------+-------------+-----------+----+-----------------+\n",
            "|     review_id|star_rating|helpful_votes|total_votes|vine|verified_purchase|\n",
            "+--------------+-----------+-------------+-----------+----+-----------------+\n",
            "|R21KC552Y6HL8X|          1|           27|         31|   N|                Y|\n",
            "| RX9WC9FTIR1XR|          5|           25|         25|   N|                Y|\n",
            "| RGDCOU1KBHMNG|          3|           29|         31|   N|                Y|\n",
            "| RVTYWID2TPMMY|          2|           35|         42|   N|                Y|\n",
            "|R2CMPZ5VESGRLY|          4|           27|         28|   N|                Y|\n",
            "|R3VQPJZ54B55BA|          5|           62|         64|   N|                N|\n",
            "|R24QM6D7FEDZ5M|          2|           36|         43|   N|                Y|\n",
            "|R3A1VQ3SQDXEJ3|          5|           20|         20|   N|                Y|\n",
            "|  R39GSNW76GYF|          1|           20|         23|   N|                Y|\n",
            "| RPJLR6MFDPXXE|          5|           35|         36|   N|                Y|\n",
            "|R34X0ZGVB3YGYO|          5|           47|         47|   N|                Y|\n",
            "|R2C9O1BOV14Q0Z|          1|           62|         79|   N|                Y|\n",
            "| RM6ZH5J3XDNHK|          5|           79|         87|   N|                Y|\n",
            "|R2E363K75EMW4K|          5|           66|         69|   N|                Y|\n",
            "|R2VJII8VKSJHDF|          1|           24|         29|   N|                N|\n",
            "|R2U35Y2P27M13E|          1|           43|         45|   N|                Y|\n",
            "| RLMZOQL11VHBX|          5|           23|         24|   N|                Y|\n",
            "|R3C6CQQRRA8SYP|          5|           52|         58|   N|                Y|\n",
            "|R3T7YOX0AEDZL3|          1|           45|         47|   N|                N|\n",
            "|R176V3AYS3R4HG|          5|           26|         27|   N|                N|\n",
            "+--------------+-----------+-------------+-----------+----+-----------------+\n",
            "only showing top 20 rows\n",
            "\n"
          ]
        }
      ]
    },
    {
      "cell_type": "code",
      "source": [
        "rows = percent_votes_df.count()\n",
        "print({rows})"
      ],
      "metadata": {
        "colab": {
          "base_uri": "https://localhost:8080/"
        },
        "id": "O4dudV2G1FWm",
        "outputId": "c89fe5c9-32fb-4c98-c7aa-0372dbabf4ce"
      },
      "execution_count": null,
      "outputs": [
        {
          "output_type": "stream",
          "name": "stdout",
          "text": [
            "{38010}\n"
          ]
        }
      ]
    },
    {
      "cell_type": "code",
      "source": [
        "#Create a data frame where there is a vine review\n",
        "vine_review_df = percent_votes_df.filter(percent_votes_df[\"vine\"]==\"Y\")\n",
        "vine_review_df.show(10)"
      ],
      "metadata": {
        "colab": {
          "base_uri": "https://localhost:8080/"
        },
        "id": "RBhpi0KL1FKU",
        "outputId": "0c741844-a873-4a7f-e014-fc9619180e7e"
      },
      "execution_count": null,
      "outputs": [
        {
          "output_type": "stream",
          "name": "stdout",
          "text": [
            "+--------------+-----------+-------------+-----------+----+-----------------+\n",
            "|     review_id|star_rating|helpful_votes|total_votes|vine|verified_purchase|\n",
            "+--------------+-----------+-------------+-----------+----+-----------------+\n",
            "|R3A71VR1JZD8WF|          2|           27|         30|   Y|                N|\n",
            "|R16OMUJIGI18JZ|          5|           72|         72|   Y|                N|\n",
            "|R3TS8ZP2FHQ9XR|          5|           39|         42|   Y|                N|\n",
            "|R2MHP919VZN7DI|          5|           29|         30|   Y|                N|\n",
            "| RD2BCTVS59A5L|          2|           20|         20|   Y|                N|\n",
            "|R1JUJLXQ2CMWKF|          4|           25|         26|   Y|                N|\n",
            "|R2T7YE0IFI6N9L|          3|           24|         25|   Y|                N|\n",
            "|R25FI3J7WWOYXM|          3|           55|         58|   Y|                N|\n",
            "|R3P3U4EOWIUD50|          3|           27|         36|   Y|                N|\n",
            "|R3C7MKX7MO6XUC|          5|          216|        219|   Y|                N|\n",
            "+--------------+-----------+-------------+-----------+----+-----------------+\n",
            "only showing top 10 rows\n",
            "\n"
          ]
        }
      ]
    },
    {
      "cell_type": "code",
      "source": [
        "#Create a data frame where there is a vine review\n",
        "non_vine_review_df = percent_votes_df.filter(percent_votes_df[\"vine\"]==\"N\")\n",
        "non_vine_review_df.show(10)"
      ],
      "metadata": {
        "colab": {
          "base_uri": "https://localhost:8080/"
        },
        "id": "9tZDveBw0se7",
        "outputId": "aa7683b1-f0ef-4bd9-bca5-4ec02428968c"
      },
      "execution_count": null,
      "outputs": [
        {
          "output_type": "stream",
          "name": "stdout",
          "text": [
            "+--------------+-----------+-------------+-----------+----+-----------------+\n",
            "|     review_id|star_rating|helpful_votes|total_votes|vine|verified_purchase|\n",
            "+--------------+-----------+-------------+-----------+----+-----------------+\n",
            "|R21KC552Y6HL8X|          1|           27|         31|   N|                Y|\n",
            "| RX9WC9FTIR1XR|          5|           25|         25|   N|                Y|\n",
            "| RGDCOU1KBHMNG|          3|           29|         31|   N|                Y|\n",
            "| RVTYWID2TPMMY|          2|           35|         42|   N|                Y|\n",
            "|R2CMPZ5VESGRLY|          4|           27|         28|   N|                Y|\n",
            "|R3VQPJZ54B55BA|          5|           62|         64|   N|                N|\n",
            "|R24QM6D7FEDZ5M|          2|           36|         43|   N|                Y|\n",
            "|R3A1VQ3SQDXEJ3|          5|           20|         20|   N|                Y|\n",
            "|  R39GSNW76GYF|          1|           20|         23|   N|                Y|\n",
            "| RPJLR6MFDPXXE|          5|           35|         36|   N|                Y|\n",
            "+--------------+-----------+-------------+-----------+----+-----------------+\n",
            "only showing top 10 rows\n",
            "\n"
          ]
        }
      ]
    },
    {
      "cell_type": "code",
      "source": [
        "#Determine the number of review, number of 5 star reviews, and percentage of 5 star for vine and non-vine\n",
        "from pyspark.sql.functions import col,when,count,lit\n",
        "ratings_total_df = percent_votes_df.groupBy(\"vine\").agg(\n",
        "    count(col(\"vine\")).alias(\"Total_Reviews\"),\n",
        "    count(when(col(\"star_rating\") == 5, True)).alias(\"Total_5_Star_Reviews\"),\n",
        "    (count(when(col(\"star_rating\") == 5, True))/count(col(\"vine\"))*100).alias(\"%_5_Star_To_Total\")).show()"
      ],
      "metadata": {
        "colab": {
          "base_uri": "https://localhost:8080/"
        },
        "id": "d1-ufCn_0w2Z",
        "outputId": "2ea367eb-c781-4672-cca4-f1d6e1a45a0b"
      },
      "execution_count": null,
      "outputs": [
        {
          "output_type": "stream",
          "name": "stdout",
          "text": [
            "+----+-------------+--------------------+------------------+\n",
            "|vine|Total_Reviews|Total_5_Star_Reviews| %_5_Star_To_Total|\n",
            "+----+-------------+--------------------+------------------+\n",
            "|   Y|          170|                  65| 38.23529411764706|\n",
            "|   N|        37840|               20612|54.471458773784356|\n",
            "+----+-------------+--------------------+------------------+\n",
            "\n"
          ]
        }
      ]
    },
    {
      "cell_type": "code",
      "source": [
        "#Additional Analysis\n",
        "#Average Star Rating\n",
        "from pyspark.sql.functions import avg\n",
        "vine_review_df.select(avg(\"star_rating\")).show()"
      ],
      "metadata": {
        "colab": {
          "base_uri": "https://localhost:8080/"
        },
        "id": "VawkZxvQ0y4S",
        "outputId": "44eb63e0-f584-4423-de77-4bf31538d741"
      },
      "execution_count": null,
      "outputs": [
        {
          "output_type": "stream",
          "name": "stdout",
          "text": [
            "+-----------------+\n",
            "| avg(star_rating)|\n",
            "+-----------------+\n",
            "|3.929411764705882|\n",
            "+-----------------+\n",
            "\n"
          ]
        }
      ]
    },
    {
      "cell_type": "code",
      "source": [
        "non_vine_review_df.select(avg(\"star_rating\")).show()"
      ],
      "metadata": {
        "colab": {
          "base_uri": "https://localhost:8080/"
        },
        "id": "eco1vqGF1Tdg",
        "outputId": "3f085199-4a22-4409-f57f-caae159c6bd6"
      },
      "execution_count": null,
      "outputs": [
        {
          "output_type": "stream",
          "name": "stdout",
          "text": [
            "+------------------+\n",
            "|  avg(star_rating)|\n",
            "+------------------+\n",
            "|3.7647463002114163|\n",
            "+------------------+\n",
            "\n"
          ]
        }
      ]
    }
  ]
}